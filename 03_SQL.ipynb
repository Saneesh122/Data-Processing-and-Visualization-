{
  "nbformat": 4,
  "nbformat_minor": 0,
  "metadata": {
    "colab": {
      "name": "Untitled64.ipynb",
      "provenance": [],
      "include_colab_link": true
    },
    "kernelspec": {
      "name": "python3",
      "display_name": "Python 3"
    },
    "language_info": {
      "name": "python"
    }
  },
  "cells": [
    {
      "cell_type": "markdown",
      "metadata": {
        "id": "view-in-github",
        "colab_type": "text"
      },
      "source": [
        "<a href=\"https://colab.research.google.com/github/Saneesh122/Data-Processing-and-Visualization-/blob/main/03_SQL.ipynb\" target=\"_parent\"><img src=\"https://colab.research.google.com/assets/colab-badge.svg\" alt=\"Open In Colab\"/></a>"
      ]
    },
    {
      "cell_type": "markdown",
      "metadata": {
        "id": "RQGM6RqEGPDg"
      },
      "source": [
        "## Learning Some SQL with BigQuery"
      ]
    },
    {
      "cell_type": "markdown",
      "metadata": {
        "id": "XBG1Cm1bGWHF"
      },
      "source": [
        "The first bit below comes directly from Google, you'll need to do each of those to be successful in getting this document to work.  "
      ]
    },
    {
      "cell_type": "markdown",
      "source": [
        "## Before you begin\n",
        "\n",
        "\n",
        "1.   Use the [Cloud Resource Manager](https://console.cloud.google.com/cloud-resource-manager) to Create a Cloud Platform project if you do not already have one.\n",
        "2.   [Enable billing](https://support.google.com/cloud/answer/6293499#enable-billing) for the project.\n",
        "3.   [Enable BigQuery](https://console.cloud.google.com/flows/enableapi?apiid=bigquery) APIs for the project."
      ],
      "metadata": {
        "id": "CyGk_QxpbkjN"
      }
    },
    {
      "cell_type": "code",
      "metadata": {
        "colab": {
          "base_uri": "https://localhost:8080/"
        },
        "id": "sKaFcEdGGL9j",
        "outputId": "90a69105-b2f8-4604-bd3f-bbeaa7bfa741"
      },
      "source": [
        "from google.colab import auth\n",
        "auth.authenticate_user()\n",
        "print('Authenticated')"
      ],
      "execution_count": null,
      "outputs": [
        {
          "output_type": "stream",
          "name": "stdout",
          "text": [
            "Authenticated\n"
          ]
        }
      ]
    },
    {
      "cell_type": "markdown",
      "metadata": {
        "id": "ri8PRQIIHCCR"
      },
      "source": [
        "Now that I am authenticated, I can start to play around in the dataset.  I am going to look at the liquor sales data from Iowa and try to find the most and least sales by city.  I do have a project called `pic-math` in my BigQuery interface.  So you'll need to make one but keep the name simple but identifiable!"
      ]
    },
    {
      "cell_type": "markdown",
      "source": [
        "## Why do we use SQL\n",
        "\n",
        "Below you'll see a basic SQL call.  This illustrates why excel is not useful, 22 million rows is about 21.5 million more than excel can handle!  Essentially SQL will do the data manipulations on the database server side instead of on you machine (or in the cloud with colab)"
      ],
      "metadata": {
        "id": "3COH-6Ssb5n0"
      }
    },
    {
      "cell_type": "code",
      "metadata": {
        "colab": {
          "base_uri": "https://localhost:8080/",
          "height": 81
        },
        "id": "N8AyI9OjG5gp",
        "outputId": "6cc48ed8-b9a0-46f2-d7a7-bcd538b96036"
      },
      "source": [
        "%%bigquery --project pic-math\n",
        "SELECT \n",
        "  COUNT(*) as total_rows\n",
        "FROM `bigquery-public-data.iowa_liquor_sales.sales`"
      ],
      "execution_count": null,
      "outputs": [
        {
          "output_type": "execute_result",
          "data": {
            "text/html": [
              "<div>\n",
              "<style scoped>\n",
              "    .dataframe tbody tr th:only-of-type {\n",
              "        vertical-align: middle;\n",
              "    }\n",
              "\n",
              "    .dataframe tbody tr th {\n",
              "        vertical-align: top;\n",
              "    }\n",
              "\n",
              "    .dataframe thead th {\n",
              "        text-align: right;\n",
              "    }\n",
              "</style>\n",
              "<table border=\"1\" class=\"dataframe\">\n",
              "  <thead>\n",
              "    <tr style=\"text-align: right;\">\n",
              "      <th></th>\n",
              "      <th>total_rows</th>\n",
              "    </tr>\n",
              "  </thead>\n",
              "  <tbody>\n",
              "    <tr>\n",
              "      <th>0</th>\n",
              "      <td>22494544</td>\n",
              "    </tr>\n",
              "  </tbody>\n",
              "</table>\n",
              "</div>"
            ],
            "text/plain": [
              "   total_rows\n",
              "0    22494544"
            ]
          },
          "metadata": {},
          "execution_count": 5
        }
      ]
    },
    {
      "cell_type": "markdown",
      "metadata": {
        "id": "lwoZQgE_H-GB"
      },
      "source": [
        "We see that is a lot of rows.  We really don't want to try to store that into memory!  Let's have a peak at the data."
      ]
    },
    {
      "cell_type": "markdown",
      "source": [
        "The only two required features of an SQL call are `SELECT` and `FROM`.  `SELECT` picks the columns you want by name in the data table.  `FROM` picks the table you want to look at.  Both can be shorted in the call and sometimes it is nesseccary to all the table name with the column.  Below I do the same thing in two different ways.  Do you see a difference in the output?"
      ],
      "metadata": {
        "id": "Z_loSZaick1m"
      }
    },
    {
      "cell_type": "code",
      "source": [
        "%%bigquery --project pic-math\n",
        "SELECT \n",
        "  AVG(sale_dollars)\n",
        "FROM `bigquery-public-data.iowa_liquor_sales.sales`"
      ],
      "metadata": {
        "colab": {
          "base_uri": "https://localhost:8080/",
          "height": 81
        },
        "id": "b3JZI56ReGfu",
        "outputId": "b110a7e1-2812-44b6-9abf-dbccab800de1"
      },
      "execution_count": null,
      "outputs": [
        {
          "output_type": "execute_result",
          "data": {
            "text/html": [
              "\n",
              "  <div id=\"df-f1de074a-e115-4ec6-ae0c-16b6de3d1d05\">\n",
              "    <div class=\"colab-df-container\">\n",
              "      <div>\n",
              "<style scoped>\n",
              "    .dataframe tbody tr th:only-of-type {\n",
              "        vertical-align: middle;\n",
              "    }\n",
              "\n",
              "    .dataframe tbody tr th {\n",
              "        vertical-align: top;\n",
              "    }\n",
              "\n",
              "    .dataframe thead th {\n",
              "        text-align: right;\n",
              "    }\n",
              "</style>\n",
              "<table border=\"1\" class=\"dataframe\">\n",
              "  <thead>\n",
              "    <tr style=\"text-align: right;\">\n",
              "      <th></th>\n",
              "      <th>f0_</th>\n",
              "    </tr>\n",
              "  </thead>\n",
              "  <tbody>\n",
              "    <tr>\n",
              "      <th>0</th>\n",
              "      <td>138.881749</td>\n",
              "    </tr>\n",
              "  </tbody>\n",
              "</table>\n",
              "</div>\n",
              "      <button class=\"colab-df-convert\" onclick=\"convertToInteractive('df-f1de074a-e115-4ec6-ae0c-16b6de3d1d05')\"\n",
              "              title=\"Convert this dataframe to an interactive table.\"\n",
              "              style=\"display:none;\">\n",
              "        \n",
              "  <svg xmlns=\"http://www.w3.org/2000/svg\" height=\"24px\"viewBox=\"0 0 24 24\"\n",
              "       width=\"24px\">\n",
              "    <path d=\"M0 0h24v24H0V0z\" fill=\"none\"/>\n",
              "    <path d=\"M18.56 5.44l.94 2.06.94-2.06 2.06-.94-2.06-.94-.94-2.06-.94 2.06-2.06.94zm-11 1L8.5 8.5l.94-2.06 2.06-.94-2.06-.94L8.5 2.5l-.94 2.06-2.06.94zm10 10l.94 2.06.94-2.06 2.06-.94-2.06-.94-.94-2.06-.94 2.06-2.06.94z\"/><path d=\"M17.41 7.96l-1.37-1.37c-.4-.4-.92-.59-1.43-.59-.52 0-1.04.2-1.43.59L10.3 9.45l-7.72 7.72c-.78.78-.78 2.05 0 2.83L4 21.41c.39.39.9.59 1.41.59.51 0 1.02-.2 1.41-.59l7.78-7.78 2.81-2.81c.8-.78.8-2.07 0-2.86zM5.41 20L4 18.59l7.72-7.72 1.47 1.35L5.41 20z\"/>\n",
              "  </svg>\n",
              "      </button>\n",
              "      \n",
              "  <style>\n",
              "    .colab-df-container {\n",
              "      display:flex;\n",
              "      flex-wrap:wrap;\n",
              "      gap: 12px;\n",
              "    }\n",
              "\n",
              "    .colab-df-convert {\n",
              "      background-color: #E8F0FE;\n",
              "      border: none;\n",
              "      border-radius: 50%;\n",
              "      cursor: pointer;\n",
              "      display: none;\n",
              "      fill: #1967D2;\n",
              "      height: 32px;\n",
              "      padding: 0 0 0 0;\n",
              "      width: 32px;\n",
              "    }\n",
              "\n",
              "    .colab-df-convert:hover {\n",
              "      background-color: #E2EBFA;\n",
              "      box-shadow: 0px 1px 2px rgba(60, 64, 67, 0.3), 0px 1px 3px 1px rgba(60, 64, 67, 0.15);\n",
              "      fill: #174EA6;\n",
              "    }\n",
              "\n",
              "    [theme=dark] .colab-df-convert {\n",
              "      background-color: #3B4455;\n",
              "      fill: #D2E3FC;\n",
              "    }\n",
              "\n",
              "    [theme=dark] .colab-df-convert:hover {\n",
              "      background-color: #434B5C;\n",
              "      box-shadow: 0px 1px 3px 1px rgba(0, 0, 0, 0.15);\n",
              "      filter: drop-shadow(0px 1px 2px rgba(0, 0, 0, 0.3));\n",
              "      fill: #FFFFFF;\n",
              "    }\n",
              "  </style>\n",
              "\n",
              "      <script>\n",
              "        const buttonEl =\n",
              "          document.querySelector('#df-f1de074a-e115-4ec6-ae0c-16b6de3d1d05 button.colab-df-convert');\n",
              "        buttonEl.style.display =\n",
              "          google.colab.kernel.accessAllowed ? 'block' : 'none';\n",
              "\n",
              "        async function convertToInteractive(key) {\n",
              "          const element = document.querySelector('#df-f1de074a-e115-4ec6-ae0c-16b6de3d1d05');\n",
              "          const dataTable =\n",
              "            await google.colab.kernel.invokeFunction('convertToInteractive',\n",
              "                                                     [key], {});\n",
              "          if (!dataTable) return;\n",
              "\n",
              "          const docLinkHtml = 'Like what you see? Visit the ' +\n",
              "            '<a target=\"_blank\" href=https://colab.research.google.com/notebooks/data_table.ipynb>data table notebook</a>'\n",
              "            + ' to learn more about interactive tables.';\n",
              "          element.innerHTML = '';\n",
              "          dataTable['output_type'] = 'display_data';\n",
              "          await google.colab.output.renderOutput(dataTable, element);\n",
              "          const docLink = document.createElement('div');\n",
              "          docLink.innerHTML = docLinkHtml;\n",
              "          element.appendChild(docLink);\n",
              "        }\n",
              "      </script>\n",
              "    </div>\n",
              "  </div>\n",
              "  "
            ],
            "text/plain": [
              "          f0_\n",
              "0  138.881749"
            ]
          },
          "metadata": {},
          "execution_count": 3
        }
      ]
    },
    {
      "cell_type": "code",
      "source": [
        "%%bigquery --project pic-math\n",
        "SELECT AVG(table.sale_dollars) as average_sale_dollars\n",
        "FROM `bigquery-public-data.iowa_liquor_sales.sales` as table"
      ],
      "metadata": {
        "colab": {
          "base_uri": "https://localhost:8080/",
          "height": 81
        },
        "id": "UDPCfmqsed7l",
        "outputId": "cb4ebc5e-1c13-4fbe-a8d6-1bedfa7d7b1c"
      },
      "execution_count": null,
      "outputs": [
        {
          "output_type": "execute_result",
          "data": {
            "text/html": [
              "\n",
              "  <div id=\"df-697f7464-594c-4404-978b-1d198b1fc456\">\n",
              "    <div class=\"colab-df-container\">\n",
              "      <div>\n",
              "<style scoped>\n",
              "    .dataframe tbody tr th:only-of-type {\n",
              "        vertical-align: middle;\n",
              "    }\n",
              "\n",
              "    .dataframe tbody tr th {\n",
              "        vertical-align: top;\n",
              "    }\n",
              "\n",
              "    .dataframe thead th {\n",
              "        text-align: right;\n",
              "    }\n",
              "</style>\n",
              "<table border=\"1\" class=\"dataframe\">\n",
              "  <thead>\n",
              "    <tr style=\"text-align: right;\">\n",
              "      <th></th>\n",
              "      <th>average_sale_dollars</th>\n",
              "    </tr>\n",
              "  </thead>\n",
              "  <tbody>\n",
              "    <tr>\n",
              "      <th>0</th>\n",
              "      <td>138.881749</td>\n",
              "    </tr>\n",
              "  </tbody>\n",
              "</table>\n",
              "</div>\n",
              "      <button class=\"colab-df-convert\" onclick=\"convertToInteractive('df-697f7464-594c-4404-978b-1d198b1fc456')\"\n",
              "              title=\"Convert this dataframe to an interactive table.\"\n",
              "              style=\"display:none;\">\n",
              "        \n",
              "  <svg xmlns=\"http://www.w3.org/2000/svg\" height=\"24px\"viewBox=\"0 0 24 24\"\n",
              "       width=\"24px\">\n",
              "    <path d=\"M0 0h24v24H0V0z\" fill=\"none\"/>\n",
              "    <path d=\"M18.56 5.44l.94 2.06.94-2.06 2.06-.94-2.06-.94-.94-2.06-.94 2.06-2.06.94zm-11 1L8.5 8.5l.94-2.06 2.06-.94-2.06-.94L8.5 2.5l-.94 2.06-2.06.94zm10 10l.94 2.06.94-2.06 2.06-.94-2.06-.94-.94-2.06-.94 2.06-2.06.94z\"/><path d=\"M17.41 7.96l-1.37-1.37c-.4-.4-.92-.59-1.43-.59-.52 0-1.04.2-1.43.59L10.3 9.45l-7.72 7.72c-.78.78-.78 2.05 0 2.83L4 21.41c.39.39.9.59 1.41.59.51 0 1.02-.2 1.41-.59l7.78-7.78 2.81-2.81c.8-.78.8-2.07 0-2.86zM5.41 20L4 18.59l7.72-7.72 1.47 1.35L5.41 20z\"/>\n",
              "  </svg>\n",
              "      </button>\n",
              "      \n",
              "  <style>\n",
              "    .colab-df-container {\n",
              "      display:flex;\n",
              "      flex-wrap:wrap;\n",
              "      gap: 12px;\n",
              "    }\n",
              "\n",
              "    .colab-df-convert {\n",
              "      background-color: #E8F0FE;\n",
              "      border: none;\n",
              "      border-radius: 50%;\n",
              "      cursor: pointer;\n",
              "      display: none;\n",
              "      fill: #1967D2;\n",
              "      height: 32px;\n",
              "      padding: 0 0 0 0;\n",
              "      width: 32px;\n",
              "    }\n",
              "\n",
              "    .colab-df-convert:hover {\n",
              "      background-color: #E2EBFA;\n",
              "      box-shadow: 0px 1px 2px rgba(60, 64, 67, 0.3), 0px 1px 3px 1px rgba(60, 64, 67, 0.15);\n",
              "      fill: #174EA6;\n",
              "    }\n",
              "\n",
              "    [theme=dark] .colab-df-convert {\n",
              "      background-color: #3B4455;\n",
              "      fill: #D2E3FC;\n",
              "    }\n",
              "\n",
              "    [theme=dark] .colab-df-convert:hover {\n",
              "      background-color: #434B5C;\n",
              "      box-shadow: 0px 1px 3px 1px rgba(0, 0, 0, 0.15);\n",
              "      filter: drop-shadow(0px 1px 2px rgba(0, 0, 0, 0.3));\n",
              "      fill: #FFFFFF;\n",
              "    }\n",
              "  </style>\n",
              "\n",
              "      <script>\n",
              "        const buttonEl =\n",
              "          document.querySelector('#df-697f7464-594c-4404-978b-1d198b1fc456 button.colab-df-convert');\n",
              "        buttonEl.style.display =\n",
              "          google.colab.kernel.accessAllowed ? 'block' : 'none';\n",
              "\n",
              "        async function convertToInteractive(key) {\n",
              "          const element = document.querySelector('#df-697f7464-594c-4404-978b-1d198b1fc456');\n",
              "          const dataTable =\n",
              "            await google.colab.kernel.invokeFunction('convertToInteractive',\n",
              "                                                     [key], {});\n",
              "          if (!dataTable) return;\n",
              "\n",
              "          const docLinkHtml = 'Like what you see? Visit the ' +\n",
              "            '<a target=\"_blank\" href=https://colab.research.google.com/notebooks/data_table.ipynb>data table notebook</a>'\n",
              "            + ' to learn more about interactive tables.';\n",
              "          element.innerHTML = '';\n",
              "          dataTable['output_type'] = 'display_data';\n",
              "          await google.colab.output.renderOutput(dataTable, element);\n",
              "          const docLink = document.createElement('div');\n",
              "          docLink.innerHTML = docLinkHtml;\n",
              "          element.appendChild(docLink);\n",
              "        }\n",
              "      </script>\n",
              "    </div>\n",
              "  </div>\n",
              "  "
            ],
            "text/plain": [
              "   average_sale_dollars\n",
              "0            138.881749"
            ]
          },
          "metadata": {},
          "execution_count": 5
        }
      ]
    },
    {
      "cell_type": "markdown",
      "source": [
        "See any difference?  You should be asking yourself why it would be adventageous to name your tables.  Well, we will see shortly that joining the tables (remember relational database?) is going to be an important task!  Sometimes some info we want will be in one table and some of it in another.\n",
        "\n",
        "Here is a command that will allow you to peak at the whole table (like head!)  The `*` gives you all the columns and the `LIMIT` gives only how many you specify.  There is not preferred order in SQL."
      ],
      "metadata": {
        "id": "1SfKiVZ6etUO"
      }
    },
    {
      "cell_type": "code",
      "metadata": {
        "colab": {
          "base_uri": "https://localhost:8080/",
          "height": 435
        },
        "id": "x0HLASwSH8vC",
        "outputId": "b16528d5-0a9c-470b-fe77-8e02c8f26500"
      },
      "source": [
        "%%bigquery --project pic-math\n",
        "SELECT *\n",
        "FROM `bigquery-public-data.iowa_liquor_sales.sales`\n",
        "LIMIT 5"
      ],
      "execution_count": null,
      "outputs": [
        {
          "output_type": "execute_result",
          "data": {
            "text/html": [
              "<div>\n",
              "<style scoped>\n",
              "    .dataframe tbody tr th:only-of-type {\n",
              "        vertical-align: middle;\n",
              "    }\n",
              "\n",
              "    .dataframe tbody tr th {\n",
              "        vertical-align: top;\n",
              "    }\n",
              "\n",
              "    .dataframe thead th {\n",
              "        text-align: right;\n",
              "    }\n",
              "</style>\n",
              "<table border=\"1\" class=\"dataframe\">\n",
              "  <thead>\n",
              "    <tr style=\"text-align: right;\">\n",
              "      <th></th>\n",
              "      <th>invoice_and_item_number</th>\n",
              "      <th>date</th>\n",
              "      <th>store_number</th>\n",
              "      <th>store_name</th>\n",
              "      <th>address</th>\n",
              "      <th>city</th>\n",
              "      <th>zip_code</th>\n",
              "      <th>store_location</th>\n",
              "      <th>county_number</th>\n",
              "      <th>county</th>\n",
              "      <th>category</th>\n",
              "      <th>category_name</th>\n",
              "      <th>vendor_number</th>\n",
              "      <th>vendor_name</th>\n",
              "      <th>item_number</th>\n",
              "      <th>item_description</th>\n",
              "      <th>pack</th>\n",
              "      <th>bottle_volume_ml</th>\n",
              "      <th>state_bottle_cost</th>\n",
              "      <th>state_bottle_retail</th>\n",
              "      <th>bottles_sold</th>\n",
              "      <th>sale_dollars</th>\n",
              "      <th>volume_sold_liters</th>\n",
              "      <th>volume_sold_gallons</th>\n",
              "    </tr>\n",
              "  </thead>\n",
              "  <tbody>\n",
              "    <tr>\n",
              "      <th>0</th>\n",
              "      <td>INV-20825400070</td>\n",
              "      <td>2019-07-24</td>\n",
              "      <td>2555</td>\n",
              "      <td>Hy-Vee Food Store / Keokuk</td>\n",
              "      <td>3111 Main</td>\n",
              "      <td>Keokuk</td>\n",
              "      <td>52632.0</td>\n",
              "      <td>POINT (-91.403752 40.41538)</td>\n",
              "      <td>56</td>\n",
              "      <td>LEE</td>\n",
              "      <td>None</td>\n",
              "      <td>None</td>\n",
              "      <td>55</td>\n",
              "      <td>SAZERAC NORTH AMERICA</td>\n",
              "      <td>84197</td>\n",
              "      <td>99 Pineapple Mini</td>\n",
              "      <td>10</td>\n",
              "      <td>600</td>\n",
              "      <td>6.00</td>\n",
              "      <td>9.00</td>\n",
              "      <td>10</td>\n",
              "      <td>90.00</td>\n",
              "      <td>6.00</td>\n",
              "      <td>1.58</td>\n",
              "    </tr>\n",
              "    <tr>\n",
              "      <th>1</th>\n",
              "      <td>INV-33554300013</td>\n",
              "      <td>2021-01-18</td>\n",
              "      <td>4493</td>\n",
              "      <td>Casey's General Store #2850 / Cedar Rapids</td>\n",
              "      <td>5655 C St SW</td>\n",
              "      <td>Cedar Rapids</td>\n",
              "      <td>52404.0</td>\n",
              "      <td>POINT (-91.637306 41.922505)</td>\n",
              "      <td>57</td>\n",
              "      <td>LINN</td>\n",
              "      <td>1081100.0</td>\n",
              "      <td>Coffee Liqueurs</td>\n",
              "      <td>370.0</td>\n",
              "      <td>PERNOD RICARD USA</td>\n",
              "      <td>67524</td>\n",
              "      <td>Kahlua Coffee</td>\n",
              "      <td>24</td>\n",
              "      <td>375</td>\n",
              "      <td>6.49</td>\n",
              "      <td>9.74</td>\n",
              "      <td>5</td>\n",
              "      <td>48.70</td>\n",
              "      <td>1.87</td>\n",
              "      <td>0.49</td>\n",
              "    </tr>\n",
              "    <tr>\n",
              "      <th>2</th>\n",
              "      <td>INV-17816400003</td>\n",
              "      <td>2019-02-27</td>\n",
              "      <td>4069</td>\n",
              "      <td>Fareway Stores #648 / Ottumwa</td>\n",
              "      <td>1325 Albia Rd</td>\n",
              "      <td>Ottumwa</td>\n",
              "      <td>52501</td>\n",
              "      <td>POINT (-92.440213 41.00934)</td>\n",
              "      <td>90</td>\n",
              "      <td>WAPELLO</td>\n",
              "      <td>1901200.0</td>\n",
              "      <td>Special Order Items</td>\n",
              "      <td>259.0</td>\n",
              "      <td>Heaven Hill Brands</td>\n",
              "      <td>917914</td>\n",
              "      <td>HA Elijah Craig Cask Barrel Proof</td>\n",
              "      <td>3</td>\n",
              "      <td>750</td>\n",
              "      <td>29.92</td>\n",
              "      <td>44.88</td>\n",
              "      <td>9</td>\n",
              "      <td>403.92</td>\n",
              "      <td>6.75</td>\n",
              "      <td>1.78</td>\n",
              "    </tr>\n",
              "    <tr>\n",
              "      <th>3</th>\n",
              "      <td>INV-23344500010</td>\n",
              "      <td>2019-11-20</td>\n",
              "      <td>4324</td>\n",
              "      <td>Dayton Community Grocery</td>\n",
              "      <td>22 North Main</td>\n",
              "      <td>Dayton</td>\n",
              "      <td>50530.0</td>\n",
              "      <td>POINT (-94.068439 42.26168)</td>\n",
              "      <td>94</td>\n",
              "      <td>WEBSTER</td>\n",
              "      <td>1081100.0</td>\n",
              "      <td>Coffee Liqueurs</td>\n",
              "      <td>370.0</td>\n",
              "      <td>PERNOD RICARD USA</td>\n",
              "      <td>67527</td>\n",
              "      <td>Kahlua Coffee</td>\n",
              "      <td>12</td>\n",
              "      <td>1000</td>\n",
              "      <td>15.15</td>\n",
              "      <td>22.73</td>\n",
              "      <td>5</td>\n",
              "      <td>113.65</td>\n",
              "      <td>5.00</td>\n",
              "      <td>1.32</td>\n",
              "    </tr>\n",
              "    <tr>\n",
              "      <th>4</th>\n",
              "      <td>S09220000195</td>\n",
              "      <td>2012-11-29</td>\n",
              "      <td>2560</td>\n",
              "      <td>Hy-Vee Food Store / Marion</td>\n",
              "      <td>3600 BUSINESS HWY 151 EAST</td>\n",
              "      <td>MARION</td>\n",
              "      <td>52302</td>\n",
              "      <td>None</td>\n",
              "      <td>57</td>\n",
              "      <td>Linn</td>\n",
              "      <td>1081350.0</td>\n",
              "      <td>SPEARMINT SCHNAPPS</td>\n",
              "      <td>434</td>\n",
              "      <td>Luxco-St Louis</td>\n",
              "      <td>82187</td>\n",
              "      <td>Arrow Spearmint Schnapps</td>\n",
              "      <td>12</td>\n",
              "      <td>1000</td>\n",
              "      <td>4.75</td>\n",
              "      <td>7.13</td>\n",
              "      <td>4</td>\n",
              "      <td>28.52</td>\n",
              "      <td>4.00</td>\n",
              "      <td>1.06</td>\n",
              "    </tr>\n",
              "  </tbody>\n",
              "</table>\n",
              "</div>"
            ],
            "text/plain": [
              "  invoice_and_item_number        date  ... volume_sold_liters volume_sold_gallons\n",
              "0         INV-20825400070  2019-07-24  ...               6.00                1.58\n",
              "1         INV-33554300013  2021-01-18  ...               1.87                0.49\n",
              "2         INV-17816400003  2019-02-27  ...               6.75                1.78\n",
              "3         INV-23344500010  2019-11-20  ...               5.00                1.32\n",
              "4            S09220000195  2012-11-29  ...               4.00                1.06\n",
              "\n",
              "[5 rows x 24 columns]"
            ]
          },
          "metadata": {},
          "execution_count": 10
        }
      ]
    },
    {
      "cell_type": "markdown",
      "source": [
        "Not sure how much we might use this but if I wanted the data into a `pandas` dataframe, I just add a name for it after the bigquery project name."
      ],
      "metadata": {
        "id": "cjkGNRVeOuIi"
      }
    },
    {
      "cell_type": "code",
      "metadata": {
        "id": "-6ihHU4zHu8o"
      },
      "source": [
        "%%bigquery --project pic-math df\n",
        "SELECT \n",
        "  city, \n",
        "  store_name,\n",
        "  SUM(sale_dollars) as total_sales\n",
        "FROM `bigquery-public-data.iowa_liquor_sales.sales`\n",
        "WHERE city is not null\n",
        "GROUP BY city, store_name"
      ],
      "execution_count": null,
      "outputs": []
    },
    {
      "cell_type": "code",
      "metadata": {
        "colab": {
          "base_uri": "https://localhost:8080/",
          "height": 424
        },
        "id": "dtJOtQXtKdLl",
        "outputId": "9f54326f-4d88-4f07-89d5-dbedef13c9dc"
      },
      "source": [
        "df"
      ],
      "execution_count": null,
      "outputs": [
        {
          "output_type": "execute_result",
          "data": {
            "text/html": [
              "<div>\n",
              "<style scoped>\n",
              "    .dataframe tbody tr th:only-of-type {\n",
              "        vertical-align: middle;\n",
              "    }\n",
              "\n",
              "    .dataframe tbody tr th {\n",
              "        vertical-align: top;\n",
              "    }\n",
              "\n",
              "    .dataframe thead th {\n",
              "        text-align: right;\n",
              "    }\n",
              "</style>\n",
              "<table border=\"1\" class=\"dataframe\">\n",
              "  <thead>\n",
              "    <tr style=\"text-align: right;\">\n",
              "      <th></th>\n",
              "      <th>city</th>\n",
              "      <th>store_name</th>\n",
              "      <th>total_sales</th>\n",
              "    </tr>\n",
              "  </thead>\n",
              "  <tbody>\n",
              "    <tr>\n",
              "      <th>0</th>\n",
              "      <td>Keokuk</td>\n",
              "      <td>Hy-Vee Food Store / Keokuk</td>\n",
              "      <td>4226546.86</td>\n",
              "    </tr>\n",
              "    <tr>\n",
              "      <th>1</th>\n",
              "      <td>Cedar Rapids</td>\n",
              "      <td>Casey's General Store #2850 / Cedar Rapids</td>\n",
              "      <td>277130.53</td>\n",
              "    </tr>\n",
              "    <tr>\n",
              "      <th>2</th>\n",
              "      <td>Ottumwa</td>\n",
              "      <td>Fareway Stores #648 / Ottumwa</td>\n",
              "      <td>1853189.35</td>\n",
              "    </tr>\n",
              "    <tr>\n",
              "      <th>3</th>\n",
              "      <td>Dayton</td>\n",
              "      <td>Dayton Community Grocery</td>\n",
              "      <td>312445.18</td>\n",
              "    </tr>\n",
              "    <tr>\n",
              "      <th>4</th>\n",
              "      <td>MARION</td>\n",
              "      <td>Hy-Vee Food Store / Marion</td>\n",
              "      <td>4305523.82</td>\n",
              "    </tr>\n",
              "    <tr>\n",
              "      <th>...</th>\n",
              "      <td>...</td>\n",
              "      <td>...</td>\n",
              "      <td>...</td>\n",
              "    </tr>\n",
              "    <tr>\n",
              "      <th>4144</th>\n",
              "      <td>Cedar Falls</td>\n",
              "      <td>Happy's Wine &amp; Spirits Wholesale</td>\n",
              "      <td>1550.99</td>\n",
              "    </tr>\n",
              "    <tr>\n",
              "      <th>4145</th>\n",
              "      <td>Bettendorf</td>\n",
              "      <td>Cats Eye Distillery, LLC</td>\n",
              "      <td>693.12</td>\n",
              "    </tr>\n",
              "    <tr>\n",
              "      <th>4146</th>\n",
              "      <td>Colorado Springs</td>\n",
              "      <td>Dash Events LLC</td>\n",
              "      <td>31.14</td>\n",
              "    </tr>\n",
              "    <tr>\n",
              "      <th>4147</th>\n",
              "      <td>Keosauqua</td>\n",
              "      <td>Honey Creek Distillery</td>\n",
              "      <td>235.68</td>\n",
              "    </tr>\n",
              "    <tr>\n",
              "      <th>4148</th>\n",
              "      <td>Dubuque</td>\n",
              "      <td>3-Oaks Distillery, LLC</td>\n",
              "      <td>388.80</td>\n",
              "    </tr>\n",
              "  </tbody>\n",
              "</table>\n",
              "<p>4149 rows × 3 columns</p>\n",
              "</div>"
            ],
            "text/plain": [
              "                  city                                  store_name  total_sales\n",
              "0               Keokuk                  Hy-Vee Food Store / Keokuk   4226546.86\n",
              "1         Cedar Rapids  Casey's General Store #2850 / Cedar Rapids    277130.53\n",
              "2              Ottumwa               Fareway Stores #648 / Ottumwa   1853189.35\n",
              "3               Dayton                    Dayton Community Grocery    312445.18\n",
              "4               MARION                  Hy-Vee Food Store / Marion   4305523.82\n",
              "...                ...                                         ...          ...\n",
              "4144       Cedar Falls            Happy's Wine & Spirits Wholesale      1550.99\n",
              "4145        Bettendorf                    Cats Eye Distillery, LLC       693.12\n",
              "4146  Colorado Springs                             Dash Events LLC        31.14\n",
              "4147         Keosauqua                      Honey Creek Distillery       235.68\n",
              "4148           Dubuque                      3-Oaks Distillery, LLC       388.80\n",
              "\n",
              "[4149 rows x 3 columns]"
            ]
          },
          "metadata": {},
          "execution_count": 15
        }
      ]
    },
    {
      "cell_type": "code",
      "metadata": {
        "id": "MHwZmzd7LXh3"
      },
      "source": [
        "import pandas as pd\n",
        "\n",
        "groupeddf = df.groupby('city')"
      ],
      "execution_count": null,
      "outputs": []
    },
    {
      "cell_type": "code",
      "metadata": {
        "id": "edQiiaHZMQtm"
      },
      "source": [
        "maxdf = groupeddf.max()"
      ],
      "execution_count": null,
      "outputs": []
    },
    {
      "cell_type": "code",
      "metadata": {
        "colab": {
          "base_uri": "https://localhost:8080/",
          "height": 455
        },
        "id": "ln8BlAOVMcHH",
        "outputId": "81d64770-ba78-4128-af95-2142436fbcbe"
      },
      "source": [
        "maxdf"
      ],
      "execution_count": null,
      "outputs": [
        {
          "output_type": "execute_result",
          "data": {
            "text/html": [
              "<div>\n",
              "<style scoped>\n",
              "    .dataframe tbody tr th:only-of-type {\n",
              "        vertical-align: middle;\n",
              "    }\n",
              "\n",
              "    .dataframe tbody tr th {\n",
              "        vertical-align: top;\n",
              "    }\n",
              "\n",
              "    .dataframe thead th {\n",
              "        text-align: right;\n",
              "    }\n",
              "</style>\n",
              "<table border=\"1\" class=\"dataframe\">\n",
              "  <thead>\n",
              "    <tr style=\"text-align: right;\">\n",
              "      <th></th>\n",
              "      <th>store_name</th>\n",
              "      <th>total_sales</th>\n",
              "    </tr>\n",
              "    <tr>\n",
              "      <th>city</th>\n",
              "      <th></th>\n",
              "      <th></th>\n",
              "    </tr>\n",
              "  </thead>\n",
              "  <tbody>\n",
              "    <tr>\n",
              "      <th>ACKLEY</th>\n",
              "      <td>KUM &amp; GO #513 / ACKLEY</td>\n",
              "      <td>132551.63</td>\n",
              "    </tr>\n",
              "    <tr>\n",
              "      <th>ADAIR</th>\n",
              "      <td>KUM &amp; GO #76 / ADAIR</td>\n",
              "      <td>148812.43</td>\n",
              "    </tr>\n",
              "    <tr>\n",
              "      <th>ADEL</th>\n",
              "      <td>Shugar's Super Valu / Adel</td>\n",
              "      <td>982611.78</td>\n",
              "    </tr>\n",
              "    <tr>\n",
              "      <th>AFTON</th>\n",
              "      <td>Casey's General Store #2626 / Afton</td>\n",
              "      <td>137832.15</td>\n",
              "    </tr>\n",
              "    <tr>\n",
              "      <th>AKRON</th>\n",
              "      <td>Casey's General Store #2425 / Akron</td>\n",
              "      <td>134999.66</td>\n",
              "    </tr>\n",
              "    <tr>\n",
              "      <th>...</th>\n",
              "      <td>...</td>\n",
              "      <td>...</td>\n",
              "    </tr>\n",
              "    <tr>\n",
              "      <th>Woodbine</th>\n",
              "      <td>Foodland Super Markets / Woodbine</td>\n",
              "      <td>385599.54</td>\n",
              "    </tr>\n",
              "    <tr>\n",
              "      <th>Woodward</th>\n",
              "      <td>Casey's General Store #2551 / Woodward</td>\n",
              "      <td>186083.15</td>\n",
              "    </tr>\n",
              "    <tr>\n",
              "      <th>Wyoming</th>\n",
              "      <td>Casey's General Store #1126 / Wyoming</td>\n",
              "      <td>35499.38</td>\n",
              "    </tr>\n",
              "    <tr>\n",
              "      <th>ZWINGLE</th>\n",
              "      <td>SNK Gas &amp; Food LLC</td>\n",
              "      <td>101817.91</td>\n",
              "    </tr>\n",
              "    <tr>\n",
              "      <th>Zwingle</th>\n",
              "      <td>SNK Gas &amp; Food LLC</td>\n",
              "      <td>177418.27</td>\n",
              "    </tr>\n",
              "  </tbody>\n",
              "</table>\n",
              "<p>846 rows × 2 columns</p>\n",
              "</div>"
            ],
            "text/plain": [
              "                                      store_name  total_sales\n",
              "city                                                         \n",
              "ACKLEY                    KUM & GO #513 / ACKLEY    132551.63\n",
              "ADAIR                       KUM & GO #76 / ADAIR    148812.43\n",
              "ADEL                  Shugar's Super Valu / Adel    982611.78\n",
              "AFTON        Casey's General Store #2626 / Afton    137832.15\n",
              "AKRON        Casey's General Store #2425 / Akron    134999.66\n",
              "...                                          ...          ...\n",
              "Woodbine       Foodland Super Markets / Woodbine    385599.54\n",
              "Woodward  Casey's General Store #2551 / Woodward    186083.15\n",
              "Wyoming    Casey's General Store #1126 / Wyoming     35499.38\n",
              "ZWINGLE                       SNK Gas & Food LLC    101817.91\n",
              "Zwingle                       SNK Gas & Food LLC    177418.27\n",
              "\n",
              "[846 rows x 2 columns]"
            ]
          },
          "metadata": {},
          "execution_count": 20
        }
      ]
    },
    {
      "cell_type": "code",
      "metadata": {
        "colab": {
          "base_uri": "https://localhost:8080/",
          "height": 455
        },
        "id": "U0cfo75OMdPZ",
        "outputId": "e0f7cac4-7cc2-4589-941f-ab8610b1a044"
      },
      "source": [
        "mindf = groupeddf.min()\n",
        "\n",
        "mindf"
      ],
      "execution_count": null,
      "outputs": [
        {
          "output_type": "execute_result",
          "data": {
            "text/html": [
              "<div>\n",
              "<style scoped>\n",
              "    .dataframe tbody tr th:only-of-type {\n",
              "        vertical-align: middle;\n",
              "    }\n",
              "\n",
              "    .dataframe tbody tr th {\n",
              "        vertical-align: top;\n",
              "    }\n",
              "\n",
              "    .dataframe thead th {\n",
              "        text-align: right;\n",
              "    }\n",
              "</style>\n",
              "<table border=\"1\" class=\"dataframe\">\n",
              "  <thead>\n",
              "    <tr style=\"text-align: right;\">\n",
              "      <th></th>\n",
              "      <th>store_name</th>\n",
              "      <th>total_sales</th>\n",
              "    </tr>\n",
              "    <tr>\n",
              "      <th>city</th>\n",
              "      <th></th>\n",
              "      <th></th>\n",
              "    </tr>\n",
              "  </thead>\n",
              "  <tbody>\n",
              "    <tr>\n",
              "      <th>ACKLEY</th>\n",
              "      <td>Ackley Super Foods</td>\n",
              "      <td>108359.95</td>\n",
              "    </tr>\n",
              "    <tr>\n",
              "      <th>ADAIR</th>\n",
              "      <td>Casey's General Store #2521 / Adair</td>\n",
              "      <td>40784.57</td>\n",
              "    </tr>\n",
              "    <tr>\n",
              "      <th>ADEL</th>\n",
              "      <td>Casey's General Store #1680 / Adel</td>\n",
              "      <td>19733.51</td>\n",
              "    </tr>\n",
              "    <tr>\n",
              "      <th>AFTON</th>\n",
              "      <td>Casey's General Store #2626 / Afton</td>\n",
              "      <td>137832.15</td>\n",
              "    </tr>\n",
              "    <tr>\n",
              "      <th>AKRON</th>\n",
              "      <td>Casey's General Store #2425 / Akron</td>\n",
              "      <td>134999.66</td>\n",
              "    </tr>\n",
              "    <tr>\n",
              "      <th>...</th>\n",
              "      <td>...</td>\n",
              "      <td>...</td>\n",
              "    </tr>\n",
              "    <tr>\n",
              "      <th>Woodbine</th>\n",
              "      <td>Casey's General Store #2665 / Woodbine</td>\n",
              "      <td>6439.33</td>\n",
              "    </tr>\n",
              "    <tr>\n",
              "      <th>Woodward</th>\n",
              "      <td>Casey's General Store #2551 / Woodwa</td>\n",
              "      <td>9095.21</td>\n",
              "    </tr>\n",
              "    <tr>\n",
              "      <th>Wyoming</th>\n",
              "      <td>Casey's General Store #1126 / Wyoming</td>\n",
              "      <td>35499.38</td>\n",
              "    </tr>\n",
              "    <tr>\n",
              "      <th>ZWINGLE</th>\n",
              "      <td>SNK Gas &amp; Food LLC</td>\n",
              "      <td>101817.91</td>\n",
              "    </tr>\n",
              "    <tr>\n",
              "      <th>Zwingle</th>\n",
              "      <td>SNK Gas &amp; Food LLC</td>\n",
              "      <td>177418.27</td>\n",
              "    </tr>\n",
              "  </tbody>\n",
              "</table>\n",
              "<p>846 rows × 2 columns</p>\n",
              "</div>"
            ],
            "text/plain": [
              "                                      store_name  total_sales\n",
              "city                                                         \n",
              "ACKLEY                        Ackley Super Foods    108359.95\n",
              "ADAIR        Casey's General Store #2521 / Adair     40784.57\n",
              "ADEL          Casey's General Store #1680 / Adel     19733.51\n",
              "AFTON        Casey's General Store #2626 / Afton    137832.15\n",
              "AKRON        Casey's General Store #2425 / Akron    134999.66\n",
              "...                                          ...          ...\n",
              "Woodbine  Casey's General Store #2665 / Woodbine      6439.33\n",
              "Woodward    Casey's General Store #2551 / Woodwa      9095.21\n",
              "Wyoming    Casey's General Store #1126 / Wyoming     35499.38\n",
              "ZWINGLE                       SNK Gas & Food LLC    101817.91\n",
              "Zwingle                       SNK Gas & Food LLC    177418.27\n",
              "\n",
              "[846 rows x 2 columns]"
            ]
          },
          "metadata": {},
          "execution_count": 21
        }
      ]
    },
    {
      "cell_type": "markdown",
      "source": [
        "I am clearly just showing off now.  I have left more along this line at the bottom but let's get your assignment up!"
      ],
      "metadata": {
        "id": "wblJvjG7YVpU"
      }
    },
    {
      "cell_type": "markdown",
      "source": [
        "Assignement for today\n",
        "\n",
        "1. Start a notebook getting BigQuery to work.  Feel free to use the authentication atop.\n",
        "2. Navigate to the dataset 'austin_bikeshare.bikeshare_trips'\n",
        "3. Compute how many entries are in the dataset\n",
        "4. Compute the longest trip from 'duration_minutes'\n",
        "5. Compute the average time for a trip"
      ],
      "metadata": {
        "id": "_I_RRnBlYgRu"
      }
    },
    {
      "cell_type": "markdown",
      "source": [
        "## More on Liquors not Needed today"
      ],
      "metadata": {
        "id": "ZSod2PHzZX6R"
      }
    },
    {
      "cell_type": "markdown",
      "metadata": {
        "id": "5NFdiBzPNEcv"
      },
      "source": [
        "I notice a few things attempting this.  While I think I have a solution, it is clearly not the best.  Zwingle and ZWINGLE are probably the same town and SNK may just be the only store but the fact that it appears four times in my lists is disappointing!"
      ]
    },
    {
      "cell_type": "code",
      "metadata": {
        "colab": {
          "base_uri": "https://localhost:8080/",
          "height": 455
        },
        "id": "HUEB8iljMskR",
        "outputId": "953918fd-e1a5-4e07-fe19-c6c17aa8470f"
      },
      "source": [
        "maxdf.sort_values('total_sales',ascending=False)"
      ],
      "execution_count": null,
      "outputs": [
        {
          "output_type": "execute_result",
          "data": {
            "text/html": [
              "<div>\n",
              "<style scoped>\n",
              "    .dataframe tbody tr th:only-of-type {\n",
              "        vertical-align: middle;\n",
              "    }\n",
              "\n",
              "    .dataframe tbody tr th {\n",
              "        vertical-align: top;\n",
              "    }\n",
              "\n",
              "    .dataframe thead th {\n",
              "        text-align: right;\n",
              "    }\n",
              "</style>\n",
              "<table border=\"1\" class=\"dataframe\">\n",
              "  <thead>\n",
              "    <tr style=\"text-align: right;\">\n",
              "      <th></th>\n",
              "      <th>store_name</th>\n",
              "      <th>total_sales</th>\n",
              "    </tr>\n",
              "    <tr>\n",
              "      <th>city</th>\n",
              "      <th></th>\n",
              "      <th></th>\n",
              "    </tr>\n",
              "  </thead>\n",
              "  <tbody>\n",
              "    <tr>\n",
              "      <th>Des Moines</th>\n",
              "      <td>Walgreens #07968 / Des Moines</td>\n",
              "      <td>5.785247e+07</td>\n",
              "    </tr>\n",
              "    <tr>\n",
              "      <th>DES MOINES</th>\n",
              "      <td>Walgreens #07968 / Des Moines</td>\n",
              "      <td>4.014780e+07</td>\n",
              "    </tr>\n",
              "    <tr>\n",
              "      <th>Iowa City</th>\n",
              "      <td>goPuff / Iowa City</td>\n",
              "      <td>2.576451e+07</td>\n",
              "    </tr>\n",
              "    <tr>\n",
              "      <th>Cedar Rapids</th>\n",
              "      <td>Williams Boulevard Service, Inc.</td>\n",
              "      <td>1.883548e+07</td>\n",
              "    </tr>\n",
              "    <tr>\n",
              "      <th>Mount Vernon</th>\n",
              "      <td>Wilkie Liquors</td>\n",
              "      <td>1.794630e+07</td>\n",
              "    </tr>\n",
              "    <tr>\n",
              "      <th>...</th>\n",
              "      <td>...</td>\n",
              "      <td>...</td>\n",
              "    </tr>\n",
              "    <tr>\n",
              "      <th>RUNNELLS</th>\n",
              "      <td>Casey's General Store #2683  /  Runn</td>\n",
              "      <td>5.495630e+03</td>\n",
              "    </tr>\n",
              "    <tr>\n",
              "      <th>GILBERTVILLE</th>\n",
              "      <td>Casey's General Store #2900 / Gilber</td>\n",
              "      <td>4.947320e+03</td>\n",
              "    </tr>\n",
              "    <tr>\n",
              "      <th>Malcom</th>\n",
              "      <td>Malcom Gas &amp; Food / Malcom</td>\n",
              "      <td>4.493810e+03</td>\n",
              "    </tr>\n",
              "    <tr>\n",
              "      <th>ALVORD</th>\n",
              "      <td>Direct Liquor / Alvord</td>\n",
              "      <td>7.659100e+02</td>\n",
              "    </tr>\n",
              "    <tr>\n",
              "      <th>Colorado Springs</th>\n",
              "      <td>Dash Events LLC</td>\n",
              "      <td>3.114000e+01</td>\n",
              "    </tr>\n",
              "  </tbody>\n",
              "</table>\n",
              "<p>846 rows × 2 columns</p>\n",
              "</div>"
            ],
            "text/plain": [
              "                                            store_name   total_sales\n",
              "city                                                                \n",
              "Des Moines               Walgreens #07968 / Des Moines  5.785247e+07\n",
              "DES MOINES               Walgreens #07968 / Des Moines  4.014780e+07\n",
              "Iowa City                           goPuff / Iowa City  2.576451e+07\n",
              "Cedar Rapids          Williams Boulevard Service, Inc.  1.883548e+07\n",
              "Mount Vernon                            Wilkie Liquors  1.794630e+07\n",
              "...                                                ...           ...\n",
              "RUNNELLS          Casey's General Store #2683  /  Runn  5.495630e+03\n",
              "GILBERTVILLE      Casey's General Store #2900 / Gilber  4.947320e+03\n",
              "Malcom                      Malcom Gas & Food / Malcom  4.493810e+03\n",
              "ALVORD                          Direct Liquor / Alvord  7.659100e+02\n",
              "Colorado Springs                       Dash Events LLC  3.114000e+01\n",
              "\n",
              "[846 rows x 2 columns]"
            ]
          },
          "metadata": {},
          "execution_count": 26
        }
      ]
    },
    {
      "cell_type": "markdown",
      "metadata": {
        "id": "0g1WWSV18plA"
      },
      "source": [
        "I want to try the extra challenge **and** do it all in SQL.  I'll try to find which store had the most sales by date!"
      ]
    },
    {
      "cell_type": "code",
      "metadata": {
        "id": "aR2QnjFSNxwB",
        "outputId": "129fdd2e-e785-49e8-b861-6d3b7b920dd5",
        "colab": {
          "base_uri": "https://localhost:8080/",
          "height": 424
        }
      },
      "source": [
        "%%bigquery --project pic-math\n",
        "\n",
        "WITH bestday as (\n",
        "SELECT \n",
        "  date, \n",
        "  store_name,\n",
        "  city,\n",
        "  SUM(sale_dollars) as total_sales,\n",
        "  RANK() over (PARTITION BY date ORDER BY SUM(sale_dollars) desc) as top_sales_rank\n",
        "FROM `bigquery-public-data.iowa_liquor_sales.sales`\n",
        "WHERE city is not null\n",
        "GROUP BY date, store_name, city\n",
        ")\n",
        "\n",
        "SELECT\n",
        "  date,\n",
        "  store_name,\n",
        "  city,\n",
        "  total_sales\n",
        "FROM bestday\n",
        "WHERE top_sales_rank = 1\n",
        "ORDER BY date"
      ],
      "execution_count": null,
      "outputs": [
        {
          "output_type": "execute_result",
          "data": {
            "text/html": [
              "<div>\n",
              "<style scoped>\n",
              "    .dataframe tbody tr th:only-of-type {\n",
              "        vertical-align: middle;\n",
              "    }\n",
              "\n",
              "    .dataframe tbody tr th {\n",
              "        vertical-align: top;\n",
              "    }\n",
              "\n",
              "    .dataframe thead th {\n",
              "        text-align: right;\n",
              "    }\n",
              "</style>\n",
              "<table border=\"1\" class=\"dataframe\">\n",
              "  <thead>\n",
              "    <tr style=\"text-align: right;\">\n",
              "      <th></th>\n",
              "      <th>date</th>\n",
              "      <th>store_name</th>\n",
              "      <th>city</th>\n",
              "      <th>total_sales</th>\n",
              "    </tr>\n",
              "  </thead>\n",
              "  <tbody>\n",
              "    <tr>\n",
              "      <th>0</th>\n",
              "      <td>2012-01-03</td>\n",
              "      <td>Sam's Club 8238 / Davenport</td>\n",
              "      <td>DAVENPORT</td>\n",
              "      <td>51350.70</td>\n",
              "    </tr>\n",
              "    <tr>\n",
              "      <th>1</th>\n",
              "      <td>2012-01-04</td>\n",
              "      <td>Hy-Vee Food Store / Sheldon</td>\n",
              "      <td>SHELDON</td>\n",
              "      <td>73296.69</td>\n",
              "    </tr>\n",
              "    <tr>\n",
              "      <th>2</th>\n",
              "      <td>2012-01-05</td>\n",
              "      <td>Hy-Vee #3 / BDI / Des Moines</td>\n",
              "      <td>DES MOINES</td>\n",
              "      <td>74085.23</td>\n",
              "    </tr>\n",
              "    <tr>\n",
              "      <th>3</th>\n",
              "      <td>2012-01-09</td>\n",
              "      <td>Central City Liquor, Inc.</td>\n",
              "      <td>DES MOINES</td>\n",
              "      <td>60435.09</td>\n",
              "    </tr>\n",
              "    <tr>\n",
              "      <th>4</th>\n",
              "      <td>2012-01-10</td>\n",
              "      <td>Sam's Club 8238 / Davenport</td>\n",
              "      <td>DAVENPORT</td>\n",
              "      <td>33423.60</td>\n",
              "    </tr>\n",
              "    <tr>\n",
              "      <th>...</th>\n",
              "      <td>...</td>\n",
              "      <td>...</td>\n",
              "      <td>...</td>\n",
              "      <td>...</td>\n",
              "    </tr>\n",
              "    <tr>\n",
              "      <th>2443</th>\n",
              "      <td>2021-10-26</td>\n",
              "      <td>Costco Wholesale #788 / WDM</td>\n",
              "      <td>West Des Moines</td>\n",
              "      <td>158640.30</td>\n",
              "    </tr>\n",
              "    <tr>\n",
              "      <th>2444</th>\n",
              "      <td>2021-10-27</td>\n",
              "      <td>I-80 Liquor / Council Bluffs</td>\n",
              "      <td>Council Bluffs</td>\n",
              "      <td>89184.13</td>\n",
              "    </tr>\n",
              "    <tr>\n",
              "      <th>2445</th>\n",
              "      <td>2021-10-28</td>\n",
              "      <td>Central City 2</td>\n",
              "      <td>Des Moines</td>\n",
              "      <td>106029.76</td>\n",
              "    </tr>\n",
              "    <tr>\n",
              "      <th>2446</th>\n",
              "      <td>2021-10-29</td>\n",
              "      <td>Foundry Distilling Company</td>\n",
              "      <td>West Des Moines</td>\n",
              "      <td>55950.00</td>\n",
              "    </tr>\n",
              "    <tr>\n",
              "      <th>2447</th>\n",
              "      <td>2021-10-31</td>\n",
              "      <td>Best Food Mart 3  LLC</td>\n",
              "      <td>Des Moines</td>\n",
              "      <td>2140.08</td>\n",
              "    </tr>\n",
              "  </tbody>\n",
              "</table>\n",
              "<p>2448 rows × 4 columns</p>\n",
              "</div>"
            ],
            "text/plain": [
              "            date                    store_name             city  total_sales\n",
              "0     2012-01-03   Sam's Club 8238 / Davenport        DAVENPORT     51350.70\n",
              "1     2012-01-04   Hy-Vee Food Store / Sheldon          SHELDON     73296.69\n",
              "2     2012-01-05  Hy-Vee #3 / BDI / Des Moines       DES MOINES     74085.23\n",
              "3     2012-01-09     Central City Liquor, Inc.       DES MOINES     60435.09\n",
              "4     2012-01-10   Sam's Club 8238 / Davenport        DAVENPORT     33423.60\n",
              "...          ...                           ...              ...          ...\n",
              "2443  2021-10-26   Costco Wholesale #788 / WDM  West Des Moines    158640.30\n",
              "2444  2021-10-27  I-80 Liquor / Council Bluffs   Council Bluffs     89184.13\n",
              "2445  2021-10-28                Central City 2       Des Moines    106029.76\n",
              "2446  2021-10-29    Foundry Distilling Company  West Des Moines     55950.00\n",
              "2447  2021-10-31         Best Food Mart 3  LLC       Des Moines      2140.08\n",
              "\n",
              "[2448 rows x 4 columns]"
            ]
          },
          "metadata": {},
          "execution_count": 6
        }
      ]
    },
    {
      "cell_type": "code",
      "metadata": {
        "id": "NlLC-lEE9w_2"
      },
      "source": [
        ""
      ],
      "execution_count": null,
      "outputs": []
    }
  ]
}